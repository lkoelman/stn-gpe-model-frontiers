{
 "cells": [
  {
   "cell_type": "markdown",
   "metadata": {},
   "source": [
    "**Compare protocol SYN_BACKGROUND_HIGH**\n",
    "\n",
    "Run the protocol SYN_BACKGROUND_HIGH with the full Gillies & Willshaw (2005) STN model, then reduce the model according to our BranchZip algorithm, then rerun protocol and compare responses\n",
    "\n",
    "# README\n",
    "\n",
    "- For each synapse, the median frequency of a stereotipical PSP is measured (in cell with spiking Na channels disabled)\n",
    "- Synapses are still mapped to a location where the transfer impedance Zc is closest to that in original model\n",
    "- However, for each synapse type, Zc is computed at the aforementioned median frequency\n",
    "- => this should make the PSP at the soma elicited by that synapse in closer correspondence to the full model\n",
    "\n",
    "# Imports"
   ]
  },
  {
   "cell_type": "code",
   "execution_count": null,
   "metadata": {},
   "outputs": [],
   "source": [
    "# Enable interactive plots with backend 'notebook'\n",
    "%matplotlib notebook\n",
    "\n",
    "# print code version (hash of checked out version)\n",
    "!git log -1\n",
    "\n",
    "# print date and time of script execution\n",
    "import datetime\n",
    "print(\"\\nNotebook executed at at {} in following directory:\".format(datetime.datetime.now()))\n",
    "%cd .."
   ]
  },
  {
   "cell_type": "code",
   "execution_count": null,
   "metadata": {},
   "outputs": [],
   "source": [
    "# Import all our functions\n",
    "from evalmodel.stn_model_evaluation import *"
   ]
  },
  {
   "cell_type": "markdown",
   "metadata": {},
   "source": [
    "# Full STN model\n",
    "\n",
    "Build the Gillies & Willshaw STN model"
   ]
  },
  {
   "cell_type": "code",
   "execution_count": null,
   "metadata": {},
   "outputs": [],
   "source": [
    "full_model = StnModel.Gillies2005\n",
    "red_model = StnModel.Gillies_FoldBush_Tapered\n",
    "\n",
    "# Make cell model and evaluator\n",
    "evaluator = StnModelEvaluator(full_model, PhysioState.NORMAL)\n",
    "evaluator.build_cell(full_model)"
   ]
  },
  {
   "cell_type": "code",
   "execution_count": null,
   "metadata": {},
   "outputs": [],
   "source": [
    "# Make all stimuli/synapses for stimulation protocol\n",
    "proto = StimProtocol.SYN_BACKGROUND_HIGH\n",
    "evaluator._setup_proto(proto)"
   ]
  },
  {
   "cell_type": "code",
   "execution_count": null,
   "metadata": {},
   "outputs": [],
   "source": [
    "# inspect the model in NEURON GUI (this pops up a GUI window outside browser)\n",
    "# click __Tools > ModelView > Soma > Point Processes > GABAsyn & GLUsyn\n",
    "# from neuron import gui\n",
    "\n",
    "import matplotlib.pyplot as plt\n",
    "import bgcellmodels.morphology.morph_gui as morphology\n",
    "from mpl_toolkits.mplot3d import Axes3D\n",
    "\n",
    "plt.figure()\n",
    "ax = plt.subplot(111, projection='3d')\n",
    "ax.view_init(90,90) # set azimut and elevation\n",
    "ax.set_zlim((-1,1)) # prevent rounding errors\n",
    "ax.set_axis_off() # hide x,y,z axes and grid\n",
    "\n",
    "# Plot shape of our cell\n",
    "h.define_shape()\n",
    "morphology.shapeplot(h, ax)\n",
    "\n",
    "# Mark locations of inputs\n",
    "all_inputs = evaluator.merged_inputs(['gpe','ctx'], evaluator.target_model)\n",
    "marker_colors = 'rgby'\n",
    "for i, syn in enumerate(all_inputs['synapses']):\n",
    "    morphology.mark_locations(h, \n",
    "                            syn.get_segment().sec,\n",
    "                            syn.get_loc())"
   ]
  },
  {
   "cell_type": "markdown",
   "metadata": {},
   "source": [
    "## Run protocol\n"
   ]
  },
  {
   "cell_type": "markdown",
   "metadata": {},
   "source": [
    "Explanation of plots:\n",
    "\n",
    "- the first plot are incoming spikes from GPE (i.e.: spikes generated with a temporal pattern that is statistically similar to that of GPe neurons in vivo)\n",
    "\n",
    "\n",
    "- the second plot are incoming spikes from Cortex (CTX)\n",
    "\n",
    "\n",
    "- the first plot is the membrane voltage in several compartments (soma, a radnom distal segment, and in several compartments where GLU and GABA synapses are located)"
   ]
  },
  {
   "cell_type": "code",
   "execution_count": null,
   "metadata": {},
   "outputs": [],
   "source": [
    "# Run protocol\n",
    "evaluator._run_proto(proto)\n",
    "evaluator.plot_traces(proto)"
   ]
  },
  {
   "cell_type": "markdown",
   "metadata": {},
   "source": [
    "# Reduced STN model\n",
    "\n",
    "Collapse dendritic trees using BranchZip algorithm, then remap synapses"
   ]
  },
  {
   "cell_type": "code",
   "execution_count": null,
   "metadata": {},
   "outputs": [],
   "source": [
    "# red_model = StnModel.Gillies_FoldBush_Tapered\n",
    "red_model = StnModel.Gillies_FoldMarasco_Legacy\n",
    "\n",
    "# Model reduction\n",
    "evaluator.build_cell(red_model)\n",
    "evaluator.target_model = red_model"
   ]
  },
  {
   "cell_type": "markdown",
   "metadata": {},
   "source": [
    "## Plot morphology & synapses\n",
    "\n",
    "Run the same stimulation protocol with the reduced model."
   ]
  },
  {
   "cell_type": "code",
   "execution_count": null,
   "metadata": {},
   "outputs": [],
   "source": [
    "# Run Protocol\n",
    "evaluator._setup_proto(proto)\n",
    "\n",
    "# import matplotlib.pyplot as plt\n",
    "# import bgcellmodels.morphology.morph_gui as morphology\n",
    "# from mpl_toolkits.mplot3d import Axes3D\n",
    "\n",
    "plt.figure()\n",
    "ax = plt.subplot(111, projection='3d')\n",
    "ax.view_init(90,90) # set azimut and elevation\n",
    "ax.set_zlim((-1,1)) # prevent rounding errors\n",
    "ax.set_axis_off() # hide x,y,z axes and grid\n",
    "\n",
    "# Plot shape of our cell\n",
    "h.define_shape()\n",
    "morphology.shapeplot(h, ax)\n",
    "\n",
    "# Mark locations of inputs\n",
    "all_inputs = evaluator.get_all_inputs(red_model)\n",
    "all_synapses = all_inputs['synapses']\n",
    "print(\"Mapped {} synapses\".format(len(all_synapses)))\n",
    "\n",
    "marker_colors = 'rgby'\n",
    "for i, syn in enumerate(all_synapses):\n",
    "    morphology.mark_locations(h, \n",
    "                            syn.get_segment().sec,\n",
    "                            syn.get_loc())"
   ]
  },
  {
   "cell_type": "markdown",
   "metadata": {},
   "source": [
    "## Run protocol"
   ]
  },
  {
   "cell_type": "code",
   "execution_count": null,
   "metadata": {},
   "outputs": [],
   "source": [
    "evaluator._run_proto(proto)\n",
    "evaluator.plot_traces(proto)"
   ]
  },
  {
   "cell_type": "code",
   "execution_count": null,
   "metadata": {},
   "outputs": [],
   "source": []
  }
 ],
 "metadata": {
  "anaconda-cloud": {},
  "kernelspec": {
   "display_name": "Python 2",
   "language": "python",
   "name": "python2"
  },
  "language_info": {
   "codemirror_mode": {
    "name": "ipython",
    "version": 2
   },
   "file_extension": ".py",
   "mimetype": "text/x-python",
   "name": "python",
   "nbconvert_exporter": "python",
   "pygments_lexer": "ipython2",
   "version": "2.7.16"
  },
  "toc": {
   "base_numbering": 1,
   "nav_menu": {},
   "number_sections": false,
   "sideBar": true,
   "skip_h1_title": false,
   "title_cell": "Table of Contents",
   "title_sidebar": "Contents",
   "toc_cell": false,
   "toc_position": {
    "height": "calc(100% - 180px)",
    "left": "10px",
    "top": "150px",
    "width": "293px"
   },
   "toc_section_display": true,
   "toc_window_display": true
  }
 },
 "nbformat": 4,
 "nbformat_minor": 1
}
