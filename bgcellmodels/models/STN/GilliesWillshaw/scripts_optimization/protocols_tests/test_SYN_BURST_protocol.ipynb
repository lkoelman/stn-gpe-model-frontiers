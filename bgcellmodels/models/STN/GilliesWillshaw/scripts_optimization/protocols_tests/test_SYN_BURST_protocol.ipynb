{
 "cells": [
  {
   "cell_type": "markdown",
   "metadata": {},
   "source": [
    "# SYN_BURST protocol testing\n",
    "\n",
    "This is the minimal setup to trigger a burst using a combination of GLU + GABA synapses in the full Gillies-Willshaw STN neuron model"
   ]
  },
  {
   "cell_type": "code",
   "execution_count": null,
   "metadata": {},
   "outputs": [],
   "source": [
    "# Enable interactive plots with backend 'notebook'\n",
    "%matplotlib notebook\n",
    "# Enable connecting with ipyton console --existing\n",
    "# %connect_info"
   ]
  },
  {
   "cell_type": "markdown",
   "metadata": {},
   "source": [
    "## Import all our modules"
   ]
  },
  {
   "cell_type": "code",
   "execution_count": null,
   "metadata": {},
   "outputs": [],
   "source": [
    "# Fix NEURON stdout output\n",
    "import sys\n",
    "default_stdout = sys.stdout\n",
    "default_stderr = sys.stderr\n",
    "\n",
    "# NEURON modules\n",
    "import neuron\n",
    "from neuron import h\n",
    "h.load_file(\"stdlib.hoc\") # Load the standard library\n",
    "h.load_file(\"stdrun.hoc\") # Load the standard run library\n",
    "\n",
    "# Add our own modules to Python path\n",
    "import os.path\n",
    "scriptdir = os.path.abspath('.')\n",
    "modulesbase = os.path.normpath(os.path.join(scriptdir, '..'))\n",
    "sys.path.append(modulesbase)\n",
    "\n",
    "# Gillies-Willshaw STN model\n",
    "import gillies_model as gillies\n",
    "\n",
    "# Plotting & recording\n",
    "from bgcellmodels.common import analysis\n",
    "\n",
    "# Physiological parameters\n",
    "import bgcellmodels.cellpopdata as cpd\n",
    "from bgcellmodels.cellpopdata import PhysioState, Populations as Pop, NTReceptors as NTR, ParameterSource as Cit\n",
    "\n",
    "# STN cell testing\n",
    "from stn_model_evaluation import *\n",
    "\n",
    "# Fix NEURON output\n",
    "reload(sys)\n",
    "sys.setdefaultencoding('utf-8')\n",
    "sys.stdout = default_stdout\n",
    "sys.stderr = default_stderr"
   ]
  },
  {
   "cell_type": "markdown",
   "metadata": {},
   "source": [
    "## Build STN model\n",
    "Build STN cell and evaluator object"
   ]
  },
  {
   "cell_type": "code",
   "execution_count": null,
   "metadata": {},
   "outputs": [],
   "source": [
    "# Make cell model and evaluator\n",
    "evaluator = StnModelEvaluator(StnModel.Gillies2005, PhysioState.NORMAL)\n",
    "evaluator.build_cell(StnModel.Gillies2005)\n",
    "\n",
    "proto_GABA = StimProtocol.SINGLE_SYN_GABA\n",
    "proto_GLU = StimProtocol.SINGLE_SYN_GLU"
   ]
  },
  {
   "cell_type": "markdown",
   "metadata": {},
   "source": [
    "## Simulate multiple synapses\n",
    "\n",
    "Increase the number of synapses until we get a rebound burst\n",
    "\n",
    "### Eliciting rebound burst\n",
    "\n",
    "Rebound burst protocol: (Gillies 2005, Fig. 3-4):\n",
    "\n",
    "- induced with 500ms -025 nA somatic current injection\n",
    "- Fig. 3D + 4C-D: hyperpolarized to between -82 ~ -75 mV\n",
    "- increasing g_CaL or decreasing g_sKCa increased burst duration\n",
    "\n",
    "\n",
    "Plateau potential protocol: (Gillies 2005, Fig. 10C-D)\n",
    "\n",
    "- hyperpolarize to -70 mV (below thresold CaT deinactivation, i.e. CaT will be triggered) (see fig. 10C)\n",
    "- +0.2 nA depolarizing pulse (see fig. 10D) over hyperpolarizing current of duration 50 ms (see fig. 10D, top right)"
   ]
  },
  {
   "cell_type": "code",
   "execution_count": null,
   "metadata": {},
   "outputs": [],
   "source": [
    "# Change SKCa conductance\n",
    "for sec in h.allsec():\n",
    "    for seg in sec:\n",
    "        seg.gk_sKCa = 0.6 * seg.gk_sKCa\n",
    "\n",
    "# Add some synapses\n",
    "evaluator.make_GABA_inputs(1)\n",
    "evaluator.make_GLU_inputs(4)\n",
    "\n",
    "evaluator.rec_traces(proto_GABA)\n",
    "evaluator.rec_traces(proto_GLU)"
   ]
  },
  {
   "cell_type": "code",
   "execution_count": null,
   "metadata": {},
   "outputs": [],
   "source": [
    "# Print synapse list\n",
    "h.topology() # see console from which Jupyter was started\n",
    "print(\"List of synapses:\")\n",
    "all_syns = sum((evaluator.model_data[evaluator.target_model]['inputs'][pop]['synapses'] for pop in ['gpe', 'ctx']),[])\n",
    "for syn in all_syns:\n",
    "    print(\"Synapse {} in segment {}\".format(syn, syn.get_segment()))"
   ]
  },
  {
   "cell_type": "code",
   "execution_count": null,
   "metadata": {},
   "outputs": [],
   "source": [
    "# Simulate with additional synapses\n",
    "# h.cvode_active(0)\n",
    "evaluator.init_sim()\n",
    "evaluator.run_sim()"
   ]
  },
  {
   "cell_type": "code",
   "execution_count": null,
   "metadata": {},
   "outputs": [],
   "source": [
    "# Plot simulation data\n",
    "evaluator.plot_traces(proto_GABA)\n",
    "evaluator.plot_traces(proto_GLU)"
   ]
  }
 ],
 "metadata": {
  "anaconda-cloud": {},
  "kernelspec": {
   "display_name": "Python [default]",
   "language": "python",
   "name": "python2"
  },
  "language_info": {
   "codemirror_mode": {
    "name": "ipython",
    "version": 2
   },
   "file_extension": ".py",
   "mimetype": "text/x-python",
   "name": "python",
   "nbconvert_exporter": "python",
   "pygments_lexer": "ipython2",
   "version": "2.7.13"
  }
 },
 "nbformat": 4,
 "nbformat_minor": 1
}
